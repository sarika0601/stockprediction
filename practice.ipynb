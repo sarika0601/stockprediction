{
 "cells": [
  {
   "cell_type": "code",
   "execution_count": 1,
   "id": "43523f12",
   "metadata": {},
   "outputs": [],
   "source": [
    "import pandas as pd\n",
    "import numpy as np\n",
    "import pandas_datareader as pdr"
   ]
  },
  {
   "cell_type": "code",
   "execution_count": 2,
   "id": "48310985",
   "metadata": {},
   "outputs": [],
   "source": [
    "symbol=pd.read_csv('EQUITY_L.csv')"
   ]
  },
  {
   "cell_type": "code",
   "execution_count": 3,
   "id": "884609fb",
   "metadata": {},
   "outputs": [
    {
     "data": {
      "text/html": [
       "<div>\n",
       "<style scoped>\n",
       "    .dataframe tbody tr th:only-of-type {\n",
       "        vertical-align: middle;\n",
       "    }\n",
       "\n",
       "    .dataframe tbody tr th {\n",
       "        vertical-align: top;\n",
       "    }\n",
       "\n",
       "    .dataframe thead th {\n",
       "        text-align: right;\n",
       "    }\n",
       "</style>\n",
       "<table border=\"1\" class=\"dataframe\">\n",
       "  <thead>\n",
       "    <tr style=\"text-align: right;\">\n",
       "      <th></th>\n",
       "      <th>SYMBOL</th>\n",
       "      <th>NAME OF COMPANY</th>\n",
       "      <th>SERIES</th>\n",
       "      <th>DATE OF LISTING</th>\n",
       "      <th>PAID UP VALUE</th>\n",
       "      <th>MARKET LOT</th>\n",
       "      <th>ISIN NUMBER</th>\n",
       "      <th>FACE VALUE</th>\n",
       "    </tr>\n",
       "  </thead>\n",
       "  <tbody>\n",
       "    <tr>\n",
       "      <th>0</th>\n",
       "      <td>20MICRONS</td>\n",
       "      <td>20 Microns Limited</td>\n",
       "      <td>EQ</td>\n",
       "      <td>06-OCT-2008</td>\n",
       "      <td>5</td>\n",
       "      <td>1</td>\n",
       "      <td>INE144J01027</td>\n",
       "      <td>5</td>\n",
       "    </tr>\n",
       "    <tr>\n",
       "      <th>1</th>\n",
       "      <td>21STCENMGM</td>\n",
       "      <td>21st Century Management Services Limited</td>\n",
       "      <td>EQ</td>\n",
       "      <td>03-MAY-1995</td>\n",
       "      <td>10</td>\n",
       "      <td>1</td>\n",
       "      <td>INE253B01015</td>\n",
       "      <td>10</td>\n",
       "    </tr>\n",
       "    <tr>\n",
       "      <th>2</th>\n",
       "      <td>360ONE</td>\n",
       "      <td>360 ONE WAM LIMITED</td>\n",
       "      <td>EQ</td>\n",
       "      <td>19-SEP-2019</td>\n",
       "      <td>2</td>\n",
       "      <td>1</td>\n",
       "      <td>INE466L01020</td>\n",
       "      <td>2</td>\n",
       "    </tr>\n",
       "    <tr>\n",
       "      <th>3</th>\n",
       "      <td>3IINFOLTD</td>\n",
       "      <td>3i Infotech Limited</td>\n",
       "      <td>EQ</td>\n",
       "      <td>22-OCT-2021</td>\n",
       "      <td>10</td>\n",
       "      <td>1</td>\n",
       "      <td>INE748C01038</td>\n",
       "      <td>10</td>\n",
       "    </tr>\n",
       "    <tr>\n",
       "      <th>4</th>\n",
       "      <td>3MINDIA</td>\n",
       "      <td>3M India Limited</td>\n",
       "      <td>EQ</td>\n",
       "      <td>13-AUG-2004</td>\n",
       "      <td>10</td>\n",
       "      <td>1</td>\n",
       "      <td>INE470A01017</td>\n",
       "      <td>10</td>\n",
       "    </tr>\n",
       "  </tbody>\n",
       "</table>\n",
       "</div>"
      ],
      "text/plain": [
       "       SYMBOL                           NAME OF COMPANY  SERIES  \\\n",
       "0   20MICRONS                        20 Microns Limited      EQ   \n",
       "1  21STCENMGM  21st Century Management Services Limited      EQ   \n",
       "2      360ONE                       360 ONE WAM LIMITED      EQ   \n",
       "3   3IINFOLTD                       3i Infotech Limited      EQ   \n",
       "4     3MINDIA                          3M India Limited      EQ   \n",
       "\n",
       "   DATE OF LISTING   PAID UP VALUE   MARKET LOT   ISIN NUMBER   FACE VALUE  \n",
       "0      06-OCT-2008               5            1  INE144J01027            5  \n",
       "1      03-MAY-1995              10            1  INE253B01015           10  \n",
       "2      19-SEP-2019               2            1  INE466L01020            2  \n",
       "3      22-OCT-2021              10            1  INE748C01038           10  \n",
       "4      13-AUG-2004              10            1  INE470A01017           10  "
      ]
     },
     "execution_count": 3,
     "metadata": {},
     "output_type": "execute_result"
    }
   ],
   "source": [
    "symbol.head()"
   ]
  },
  {
   "cell_type": "code",
   "execution_count": 4,
   "id": "340ed252",
   "metadata": {},
   "outputs": [],
   "source": [
    "symbol=np.array(symbol)"
   ]
  },
  {
   "cell_type": "code",
   "execution_count": 5,
   "id": "e877a3a1",
   "metadata": {},
   "outputs": [
    {
     "data": {
      "text/plain": [
       "str"
      ]
     },
     "execution_count": 5,
     "metadata": {},
     "output_type": "execute_result"
    }
   ],
   "source": [
    "type(symbol[0][0])"
   ]
  },
  {
   "cell_type": "code",
   "execution_count": 6,
   "id": "7a1da8dd",
   "metadata": {},
   "outputs": [],
   "source": [
    "string=symbol[0][0]"
   ]
  },
  {
   "cell_type": "code",
   "execution_count": 7,
   "id": "d3e131fb",
   "metadata": {},
   "outputs": [
    {
     "data": {
      "text/plain": [
       "'20MICRONS'"
      ]
     },
     "execution_count": 7,
     "metadata": {},
     "output_type": "execute_result"
    }
   ],
   "source": [
    "string"
   ]
  },
  {
   "cell_type": "code",
   "execution_count": 29,
   "id": "15058656",
   "metadata": {},
   "outputs": [],
   "source": [
    "import datetime as dt\n",
    "x=dt.date.today()\n",
    "\n",
    "y=x-dt.timedelta(30)"
   ]
  },
  {
   "cell_type": "code",
   "execution_count": 9,
   "id": "515d1cfe",
   "metadata": {},
   "outputs": [
    {
     "data": {
      "text/plain": [
       "datetime.date(2023, 1, 28)"
      ]
     },
     "execution_count": 9,
     "metadata": {},
     "output_type": "execute_result"
    }
   ],
   "source": [
    "x"
   ]
  },
  {
   "cell_type": "code",
   "execution_count": 31,
   "id": "0f37e6e7",
   "metadata": {},
   "outputs": [
    {
     "data": {
      "text/plain": [
       "103"
      ]
     },
     "execution_count": 31,
     "metadata": {},
     "output_type": "execute_result"
    }
   ],
   "source": [
    "(symbol.shape)[0]"
   ]
  },
  {
   "cell_type": "code",
   "execution_count": 32,
   "id": "8e6925df",
   "metadata": {},
   "outputs": [],
   "source": [
    "def reverse_hammer(data,i):\n",
    "    \n",
    "    open_close=(data[i][3]-data[i][4])/data[i][3]*100\n",
    "    open_close=abs(open_close)\n",
    "    \n",
    "    low=(data[i][2]-data[i][3])/data[i][2]*100\n",
    "    low=abs(low)\n",
    "    high=(data[i][1]-data[i][4])/data[i][1]*100\n",
    "    high=abs(high)\n",
    "    # print(open_close,\" \",high,\" \",low)\n",
    "    if(open_close*3<high and low*3<high):\n",
    "        #print(data[i][0])\n",
    "        return(1)\n",
    "    return(-1)"
   ]
  },
  {
   "cell_type": "code",
   "execution_count": 33,
   "id": "0993fc61",
   "metadata": {},
   "outputs": [],
   "source": [
    "def hammer(data,i):\n",
    "    \n",
    "    open_close=(data[i][3]-data[i][4])/data[i][3]*100\n",
    "    open_close=abs(open_close)\n",
    "    \n",
    "    low=(data[i][2]-data[i][3])/data[i][2]*100\n",
    "    low=abs(low)\n",
    "    high=(data[i][1]-data[i][4])/data[i][1]*100\n",
    "    high=abs(high)\n",
    "    # print(open_close,\" \",high,\" \",low)\n",
    "    if(open_close*3<low and high*3<low):\n",
    "        #print(data[i][0])\n",
    "        return(1)\n",
    "    return(-1)"
   ]
  },
  {
   "cell_type": "code",
   "execution_count": 34,
   "id": "23661ad4",
   "metadata": {},
   "outputs": [],
   "source": [
    "def harebozo(data,i):\n",
    "    \n",
    "    open_close=(data[i][3]-data[i][4])/data[i][3]*100\n",
    "    open_close=abs(open_close)\n",
    "    \n",
    "    low=(data[i][2]-data[i][3])/data[i][2]*100\n",
    "    low=abs(low)\n",
    "    high=(data[i][1]-data[i][4])/data[i][1]*100\n",
    "    high=abs(high)\n",
    "    # print(open_close,\" \",high,\" \",low)\n",
    "    high_low=(data[i][1]-data[i][2])/data[i][1]*100\n",
    "    high_low=abs(high_low)\n",
    "    if((open_close>high*4 and open_close>low*4) or (open_close>high*5 and data[i][3]>data[i][1]) or(open_close>low*5 and data[i][4]>data[i][2]) ):\n",
    "        \n",
    "        #print(data[i][0])\n",
    "        return(1)\n",
    "    return(-1)"
   ]
  },
  {
   "cell_type": "code",
   "execution_count": 35,
   "id": "f6c80a57",
   "metadata": {},
   "outputs": [],
   "source": [
    "def spin_top(data,i):\n",
    "    \n",
    "    open_close=(data[i][3]-data[i][4])/data[i][3]*100\n",
    "    open_close=abs(open_close)\n",
    "    \n",
    "    low=(data[i][2]-data[i][3])/data[i][2]*100\n",
    "    low=abs(low)\n",
    "    high=(data[i][1]-data[i][4])/data[i][1]*100\n",
    "    high=abs(high)\n",
    "    # print(open_close,\" \",high,\" \",low)\n",
    "    \n",
    "    if(low>5*open_close and high>5*open_close and abs(high-low)<0.5):    \n",
    "        #print(data[i][0])\n",
    "        return(1)\n",
    "    return(-1)"
   ]
  },
  {
   "cell_type": "code",
   "execution_count": 36,
   "id": "e2edb48e",
   "metadata": {},
   "outputs": [],
   "source": [
    "def func(data,curr):\n",
    "    temp=curr\n",
    "    dec=0\n",
    "    inc=0\n",
    "    while(curr>temp-5):\n",
    "        if(data[curr][4]<data[curr-1][4]):\n",
    "            dec=dec+1\n",
    "        else:\n",
    "            inc=inc+1\n",
    "        curr=curr-1\n",
    "    return(dec-inc)"
   ]
  },
  {
   "cell_type": "code",
   "execution_count": 37,
   "id": "5224f6ac",
   "metadata": {},
   "outputs": [],
   "source": [
    "def check_pattern(data,i):\n",
    "     \n",
    "    if(hammer(data,i)==1 or reverse_hammer(data,i)==1 or spin_top(data,i)==1 or harebozo(data,i)==1):\n",
    "         if(func(data,i)>0):\n",
    "             return(1)\n",
    "         else:\n",
    "             return(-1)\n",
    "    return(0)"
   ]
  },
  {
   "cell_type": "code",
   "execution_count": 38,
   "id": "68556e59",
   "metadata": {},
   "outputs": [],
   "source": [
    "def get_symbol(string,x,y):\n",
    "    try:\n",
    "        df=pdr.get_data_yahoo(string,start=x,end=y)\n",
    "        return df\n",
    "    except:\n",
    "        try:\n",
    "            df=pdr.get_data_yahoo(string+'.BO',start=x,end=y)\n",
    "            return df\n",
    "        except:\n",
    "            try:\n",
    "                df=pdr.get_data_yahoo(string+'.NS',start=x,end=y)\n",
    "                return df\n",
    "            except:\n",
    "                df=pdr.get_data_yahoo('RELIANCE.NS',start=x,end=y)"
   ]
  },
  {
   "cell_type": "code",
   "execution_count": 39,
   "id": "0769a485",
   "metadata": {},
   "outputs": [],
   "source": [
    "def piv_high(data,temp):\n",
    "    count=0\n",
    "    sum=0\n",
    "    for i in range(temp-1,temp):\n",
    "        sum=sum+data[i][1]\n",
    "        count=count+1\n",
    "    avg=sum/count\n",
    "    return avg"
   ]
  },
  {
   "cell_type": "code",
   "execution_count": 40,
   "id": "e8d525aa",
   "metadata": {},
   "outputs": [],
   "source": [
    "def piv_close(data,temp):\n",
    "    count=0\n",
    "    sum=0\n",
    "    for i in range(temp-1,temp):\n",
    "        sum=sum+data[i][4]\n",
    "        count=count+1\n",
    "    avg=sum/count\n",
    "    return avg"
   ]
  },
  {
   "cell_type": "code",
   "execution_count": 41,
   "id": "8560e0b1",
   "metadata": {},
   "outputs": [],
   "source": [
    "def piv_low(data,temp):\n",
    "    count=0\n",
    "    sum=0\n",
    "    for i in range(temp-1,temp):\n",
    "        sum=sum+data[i][2]\n",
    "        count=count+1\n",
    "    avg=sum/count\n",
    "    return avg"
   ]
  },
  {
   "cell_type": "code",
   "execution_count": 42,
   "id": "6cc1d286",
   "metadata": {},
   "outputs": [],
   "source": [
    "file=open('suggest.txt','w')\n",
    "file.close()"
   ]
  },
  {
   "cell_type": "code",
   "execution_count": 43,
   "id": "a873ded1",
   "metadata": {},
   "outputs": [
    {
     "data": {
      "text/plain": [
       "103"
      ]
     },
     "execution_count": 43,
     "metadata": {},
     "output_type": "execute_result"
    }
   ],
   "source": [
    "len(symbol)"
   ]
  },
  {
   "cell_type": "code",
   "execution_count": 50,
   "id": "56b55982",
   "metadata": {},
   "outputs": [
    {
     "name": "stdout",
     "output_type": "stream",
     "text": [
      "Index= 0\n",
      "Index= 1\n",
      "Index= 2\n",
      "Index= 3\n",
      "Index= 4\n",
      "Index= 5\n",
      "Index= 6\n",
      "Index= 7\n",
      "Index= 8\n",
      "Index= 9\n",
      "Index= 10\n",
      "Index= 11\n",
      "Index= 12\n",
      "Index= 13\n",
      "Index= 14\n",
      "Index= 15\n",
      "Index= 16\n",
      "Index= 17\n",
      "Index= 18\n",
      "Index= 19\n",
      "Index= 20\n",
      "Index= 21\n",
      "Index= 22\n",
      "Index= 23\n",
      "Index= 24\n",
      "Index= 25\n",
      "Index= 26\n",
      "Index= 27\n",
      "Index= 28\n",
      "Index= 29\n",
      "Index= 30\n",
      "Index= 31\n",
      "Index= 32\n",
      "Index= 33\n",
      "Index= 34\n",
      "Index= 35\n",
      "Index= 36\n",
      "Index= 37\n",
      "Index= 38\n",
      "Index= 39\n",
      "Index= 40\n",
      "Index= 41\n",
      "Index= 42\n",
      "Index= 43\n",
      "Index= 44\n",
      "Index= 45\n",
      "Index= 46\n",
      "Index= 47\n",
      "Index= 48\n"
     ]
    }
   ],
   "source": [
    "file=open('suggest.txt','w')\n",
    "i=0\n",
    "result=[]\n",
    "while(i<len(symbol)-54):\n",
    "    try:\n",
    "        print(\"Index=\",i)\n",
    "        string=symbol[i][0]\n",
    "        df=get_symbol(string,y,x)\n",
    "        df=df.reset_index()\n",
    "        print(\"\\n\")\n",
    "        data=np.array(df)\n",
    "        temp=(df.shape)[0]-1\n",
    "        if(temp<4):\n",
    "            i=i+1\n",
    "            continue\n",
    "        check=check_pattern(data,temp-1)\n",
    "        print(\"check=\",check)\n",
    "        print(\"i=\",i)\n",
    "        print(\"check=\",check)\n",
    "        if(check>0):\n",
    "            file.write(\"Company name=\")\n",
    "            file.write(symbol[i][1])\n",
    "            file.write(\"\\n\")\n",
    "            file.write(\"Suggestion=Buy stock\\n\")\n",
    "            file.write(\"Entry price=\")\n",
    "            avg=data[temp-1][1]\n",
    "            avg=avg+(avg*0.005)\n",
    "            file.write(str(round(avg,2)))\n",
    "            high=piv_high(data,temp-1)\n",
    "            low=piv_low(data,temp-1)\n",
    "            close=piv_close(data,temp-1)\n",
    "\n",
    "            pp=(high+low+close)/3\n",
    "            rr1=(2*pp)-low\n",
    "            target1=rr1\n",
    "            rr2=pp+(high-low)\n",
    "            target2=rr2\n",
    "            file.write(\"\\nTarget price 1=\")\n",
    "            file.write(str(round(target1,2)))\n",
    "            file.write(\"\\nTarget price 1=\")\n",
    "            file.write(str(round(target2,2)))\n",
    "          \n",
    "            file.write(\"\\nStop loss=\")\n",
    "            stop_loss=data[temp-1][2]\n",
    "            stop_loss=stop_loss-(stop_loss*0.002)\n",
    "            file.write(str(round(stop_loss,2)))\n",
    "            file.write(\"\\n\\n\")\n",
    "           \n",
    "            print(\"Company name=\",symbol[i][1])\n",
    "            print(\"Suggestion=Buy stock\")\n",
    "            print(\"Entry price=\",avg)\n",
    "            print(\"Target price1=\",target1)\n",
    "            print(\"Target price2=\",target2)\n",
    "            print(\"Stop loss\",stop_loss)\n",
    "            \n",
    "            if(data[temp-1][4]<data[temp][4]):\n",
    "                result.append([symbol[i][1],data[temp-1][0],'bullish','bullish'])\n",
    "            else:\n",
    "                result.append([symbol[i][1],data[temp-1][0],'bullish','bearish'])\n",
    "            i=i+1\n",
    "        elif check<0:\n",
    "            file.write(\"Company name=\")\n",
    "            file.write(symbol[i][1])\n",
    "            file.write(\"\\n\")\n",
    "            file.write(\"Suggestion=Sell stock\\n\")\n",
    "            file.write(\"Entry price=\")\n",
    "            avg=data[temp-1][1]\n",
    "            avg=avg+(avg*0.005)\n",
    "            file.write(str(round(avg,2)))\n",
    "            high=piv_high(data,temp-1)\n",
    "            low=piv_low(data,temp-1)\n",
    "            close=piv_close(data,temp-1)\n",
    "\n",
    "            pp=(high+low+close)/3\n",
    "            rr1=(2*pp)-low\n",
    "            target1=rr1\n",
    "            rr2=pp+(high-low)\n",
    "            target2=rr2\n",
    "            file.write(\"\\nTarget price 1=\")\n",
    "            file.write(str(round(target1,2)))\n",
    "            file.write(\"\\nTarget price 1=\")\n",
    "            file.write(str(round(target2,2)))\n",
    "          \n",
    "            file.write(\"\\nStop loss=\")\n",
    "            stop_loss=data[temp-1][2]\n",
    "            stop_loss=stop_loss-(stop_loss*0.002)\n",
    "            file.write(str(round(stop_loss,2)))\n",
    "            file.write(\"\\n\\n\")\n",
    "           \n",
    "            print(\"Company name=\",symbol[i][1])\n",
    "            print(\"Suggestion=Sell stock\")\n",
    "            print(\"Target price1=\",target1)\n",
    "            print(\"Target price2=\",target2)\n",
    "            print(\"Stop loss\",stop_loss)\n",
    "            \n",
    "            if(data[temp-1][4]<data[temp][4]):\n",
    "                result.append([symbol[i][1],data[temp-1][0],'bearish','bullish'])\n",
    "            else:\n",
    "                result.append([symbol[i][1],data[temp-1][0],'bearish','bearish'])\n",
    "            i=i+1\n",
    "        else:\n",
    "            i=i+1\n",
    "    except:    \n",
    "            \n",
    "        \n",
    "        \n",
    "        i=i+1\n",
    "file.close()\n"
   ]
  },
  {
   "cell_type": "code",
   "execution_count": 45,
   "id": "2798d716",
   "metadata": {},
   "outputs": [],
   "source": [
    "res_df=pd.DataFrame(result,columns=['Date','Company Name','Prediction','Actual'])"
   ]
  },
  {
   "cell_type": "code",
   "execution_count": 46,
   "id": "7ba29724",
   "metadata": {},
   "outputs": [],
   "source": [
    "res_df.to_csv('prediction_res.csv')"
   ]
  },
  {
   "cell_type": "code",
   "execution_count": 47,
   "id": "e02c0c75",
   "metadata": {},
   "outputs": [],
   "source": [
    "count=0\n",
    "b=0\n",
    "for i in range(len(result)):\n",
    "    if(result[i][2]==result[i][3] and result[i][2]=='bullish'):\n",
    "        count=count+1\n",
    "    elif(result[i][2]==result[i][3] and result[i][2]=='bearish'):\n",
    "        b=b+1"
   ]
  },
  {
   "cell_type": "code",
   "execution_count": 48,
   "id": "5970b664",
   "metadata": {},
   "outputs": [
    {
     "ename": "ZeroDivisionError",
     "evalue": "division by zero",
     "output_type": "error",
     "traceback": [
      "\u001b[1;31m---------------------------------------------------------------------------\u001b[0m",
      "\u001b[1;31mZeroDivisionError\u001b[0m                         Traceback (most recent call last)",
      "\u001b[1;32m~\\AppData\\Local\\Temp\\ipykernel_20684\\1744944239.py\u001b[0m in \u001b[0;36m<module>\u001b[1;34m\u001b[0m\n\u001b[1;32m----> 1\u001b[1;33m \u001b[0macq\u001b[0m\u001b[1;33m=\u001b[0m\u001b[1;33m(\u001b[0m\u001b[0mcount\u001b[0m\u001b[1;33m+\u001b[0m\u001b[0mb\u001b[0m\u001b[1;33m)\u001b[0m\u001b[1;33m/\u001b[0m\u001b[0mlen\u001b[0m\u001b[1;33m(\u001b[0m\u001b[0mresult\u001b[0m\u001b[1;33m)\u001b[0m\u001b[1;33m\u001b[0m\u001b[1;33m\u001b[0m\u001b[0m\n\u001b[0m",
      "\u001b[1;31mZeroDivisionError\u001b[0m: division by zero"
     ]
    }
   ],
   "source": [
    "acq=(count+b)/len(result)"
   ]
  },
  {
   "cell_type": "code",
   "execution_count": 49,
   "id": "fcd724ce",
   "metadata": {},
   "outputs": [
    {
     "ename": "NameError",
     "evalue": "name 'acq' is not defined",
     "output_type": "error",
     "traceback": [
      "\u001b[1;31m---------------------------------------------------------------------------\u001b[0m",
      "\u001b[1;31mNameError\u001b[0m                                 Traceback (most recent call last)",
      "\u001b[1;32m~\\AppData\\Local\\Temp\\ipykernel_20684\\4184549078.py\u001b[0m in \u001b[0;36m<module>\u001b[1;34m\u001b[0m\n\u001b[1;32m----> 1\u001b[1;33m \u001b[0mprint\u001b[0m\u001b[1;33m(\u001b[0m\u001b[1;34m\"The accuraccy is=\"\u001b[0m\u001b[1;33m,\u001b[0m\u001b[0mround\u001b[0m\u001b[1;33m(\u001b[0m\u001b[0macq\u001b[0m\u001b[1;33m,\u001b[0m\u001b[1;36m2\u001b[0m\u001b[1;33m)\u001b[0m\u001b[1;33m)\u001b[0m\u001b[1;33m\u001b[0m\u001b[1;33m\u001b[0m\u001b[0m\n\u001b[0m",
      "\u001b[1;31mNameError\u001b[0m: name 'acq' is not defined"
     ]
    }
   ],
   "source": [
    "print(\"The accuraccy is=\",round(acq,2))"
   ]
  },
  {
   "cell_type": "code",
   "execution_count": null,
   "id": "4a681fab",
   "metadata": {},
   "outputs": [],
   "source": []
  },
  {
   "cell_type": "code",
   "execution_count": null,
   "id": "d011140c",
   "metadata": {},
   "outputs": [],
   "source": []
  }
 ],
 "metadata": {
  "kernelspec": {
   "display_name": "Python 3 (ipykernel)",
   "language": "python",
   "name": "python3"
  },
  "language_info": {
   "codemirror_mode": {
    "name": "ipython",
    "version": 3
   },
   "file_extension": ".py",
   "mimetype": "text/x-python",
   "name": "python",
   "nbconvert_exporter": "python",
   "pygments_lexer": "ipython3",
   "version": "3.7.9"
  }
 },
 "nbformat": 4,
 "nbformat_minor": 5
}
